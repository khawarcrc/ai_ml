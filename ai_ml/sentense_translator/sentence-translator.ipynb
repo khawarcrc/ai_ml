{
 "cells": [
  {
   "cell_type": "code",
   "execution_count": null,
   "metadata": {
    "_cell_guid": "b1076dfc-b9ad-4769-8c92-a6c4dae69d19",
    "_uuid": "8f2839f25d086af736a60e9eeb907d3b93b6e0e5",
    "trusted": true
   },
   "outputs": [],
   "source": [
    "# This Python 3 environment comes with many helpful analytics libraries installed\n",
    "# It is defined by the kaggle/python Docker image: https://github.com/kaggle/docker-python\n",
    "# For example, here's several helpful packages to load\n",
    "\n",
    "import numpy as np # linear algebra\n",
    "import pandas as pd # data processing, CSV file I/O (e.g. pd.read_csv)\n",
    "\n",
    "# Input data files are available in the read-only \"../input/\" directory\n",
    "# For example, running this (by clicking run or pressing Shift+Enter) will list all files under the input directory\n",
    "\n",
    "import os\n",
    "for dirname, _, filenames in os.walk('/kaggle/input'):\n",
    "    for filename in filenames:\n",
    "        print(os.path.join(dirname, filename))\n",
    "\n",
    "# You can write up to 20GB to the current directory (/kaggle/working/) that gets preserved as output when you create a version using \"Save & Run All\" \n",
    "# You can also write temporary files to /kaggle/temp/, but they won't be saved outside of the current session"
   ]
  },
  {
   "cell_type": "code",
   "execution_count": null,
   "metadata": {
    "execution": {
     "iopub.execute_input": "2025-08-12T20:56:19.648690Z",
     "iopub.status.busy": "2025-08-12T20:56:19.647779Z",
     "iopub.status.idle": "2025-08-12T20:56:25.186952Z",
     "shell.execute_reply": "2025-08-12T20:56:25.185894Z",
     "shell.execute_reply.started": "2025-08-12T20:56:19.648493Z"
    },
    "trusted": true
   },
   "outputs": [],
   "source": [
    " !pip install transformers "
   ]
  },
  {
   "cell_type": "code",
   "execution_count": null,
   "metadata": {
    "execution": {
     "execution_failed": "2025-08-12T21:45:50.203Z",
     "iopub.execute_input": "2025-08-12T20:56:25.188788Z",
     "iopub.status.busy": "2025-08-12T20:56:25.188373Z"
    },
    "trusted": true
   },
   "outputs": [],
   "source": [
    "!pip install torch\n",
    "\n"
   ]
  },
  {
   "cell_type": "code",
   "execution_count": 4,
   "metadata": {
    "execution": {
     "iopub.execute_input": "2025-08-12T20:58:32.474445Z",
     "iopub.status.busy": "2025-08-12T20:58:32.474125Z",
     "iopub.status.idle": "2025-08-12T20:58:32.479916Z",
     "shell.execute_reply": "2025-08-12T20:58:32.478847Z",
     "shell.execute_reply.started": "2025-08-12T20:58:32.474412Z"
    },
    "trusted": true
   },
   "outputs": [],
   "source": [
    "from transformers.utils import logging\n",
    "logging.set_verbosity_error()"
   ]
  },
  {
   "cell_type": "code",
   "execution_count": null,
   "metadata": {
    "execution": {
     "iopub.execute_input": "2025-08-12T20:58:41.256128Z",
     "iopub.status.busy": "2025-08-12T20:58:41.255768Z",
     "iopub.status.idle": "2025-08-12T20:59:11.115891Z",
     "shell.execute_reply": "2025-08-12T20:59:11.114860Z",
     "shell.execute_reply.started": "2025-08-12T20:58:41.256104Z"
    },
    "trusted": true
   },
   "outputs": [],
   "source": [
    "from transformers import pipeline \n",
    "import torch"
   ]
  },
  {
   "cell_type": "code",
   "execution_count": null,
   "metadata": {
    "execution": {
     "iopub.execute_input": "2025-08-12T20:59:11.345425Z",
     "iopub.status.busy": "2025-08-12T20:59:11.344627Z",
     "iopub.status.idle": "2025-08-12T20:59:11.400236Z",
     "shell.execute_reply": "2025-08-12T20:59:11.398945Z",
     "shell.execute_reply.started": "2025-08-12T20:59:11.345394Z"
    },
    "trusted": true
   },
   "outputs": [],
   "source": [
    "translator = pipeline(task=\"translation\",\n",
    "                      model=\"./models/facebook/nllb-200-distilled-600M\",\n",
    "                      torch_dtype=torch.bfloat16) "
   ]
  },
  {
   "cell_type": "code",
   "execution_count": null,
   "metadata": {
    "execution": {
     "iopub.execute_input": "2025-08-12T21:04:50.532552Z",
     "iopub.status.busy": "2025-08-12T21:04:50.531139Z",
     "iopub.status.idle": "2025-08-12T21:05:49.355163Z",
     "shell.execute_reply": "2025-08-12T21:05:49.354030Z",
     "shell.execute_reply.started": "2025-08-12T21:04:50.532507Z"
    },
    "trusted": true
   },
   "outputs": [],
   "source": [
    "from transformers import pipeline\n",
    "import torch\n",
    "from transformers.utils import logging\n",
    "\n",
    "# Suppress warnings\n",
    "logging.set_verbosity_error()\n",
    "\n",
    "# Translation pipeline\n",
    "translator = pipeline(\n",
    "    task=\"translation\",\n",
    "    model=\"facebook/nllb-200-distilled-600M\",  # Load from HF Hub\n",
    "    torch_dtype=torch.bfloat16\n",
    ")\n",
    "\n",
    "text = \"\"\"My puppy is adorable, Your kitten is cute.\n",
    "Her panda is friendly. His llama is thoughtful.\n",
    "We all have nice pets!\"\"\"\n",
    "\n",
    "text_translated = translator(\n",
    "    text,\n",
    "    src_lang=\"eng_Latn\",\n",
    "    tgt_lang=\"fra_Latn\"\n",
    ")\n",
    "print(text_translated)"
   ]
  }
 ],
 "metadata": {
  "kaggle": {
   "accelerator": "none",
   "dataSources": [],
   "dockerImageVersionId": 31089,
   "isGpuEnabled": false,
   "isInternetEnabled": true,
   "language": "python",
   "sourceType": "notebook"
  },
  "kernelspec": {
   "display_name": "Python 3",
   "language": "python",
   "name": "python3"
  },
  "language_info": {
   "codemirror_mode": {
    "name": "ipython",
    "version": 3
   },
   "file_extension": ".py",
   "mimetype": "text/x-python",
   "name": "python",
   "nbconvert_exporter": "python",
   "pygments_lexer": "ipython3",
   "version": "3.11.13"
  }
 },
 "nbformat": 4,
 "nbformat_minor": 4
}
